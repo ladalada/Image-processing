{
 "cells": [
  {
   "cell_type": "code",
   "execution_count": 285,
   "metadata": {},
   "outputs": [
    {
     "data": {
      "text/plain": [
       "[[0, 6, 0, 0, 0, 0, 11, 17],\n",
       " [6, 0, 19, 0, 0, 0, 25, 0],\n",
       " [0, 19, 0, 9, 0, 0, 0, 0],\n",
       " [0, 0, 9, 0, 14, 0, 0, 0],\n",
       " [0, 0, 0, 14, 0, 21, 2, 0],\n",
       " [0, 0, 0, 0, 21, 0, 0, 0],\n",
       " [11, 25, 0, 0, 2, 0, 0, 8],\n",
       " [17, 0, 0, 0, 0, 0, 8, 0]]"
      ]
     },
     "execution_count": 285,
     "metadata": {},
     "output_type": "execute_result"
    }
   ],
   "source": [
    "# adjacency matrix\n",
    "\n",
    "matrix = [[0, 6, 0, 0, 0, 0, 11, 17],\n",
    "          [6, 0, 19, 0, 0, 0, 25, 0],\n",
    "          [0, 19, 0, 9, 0, 0, 0, 0],\n",
    "          [0, 0, 9, 0, 14, 0, 0, 0],\n",
    "          [0, 0, 0, 14, 0, 21, 2, 0],\n",
    "          [0, 0, 0, 0, 21, 0, 0, 0],\n",
    "          [11, 25, 0, 0, 2, 0, 0, 8],\n",
    "          [17, 0, 0, 0, 0, 0, 8, 0]]\n",
    "\n",
    "matrix"
   ]
  },
  {
   "cell_type": "code",
   "execution_count": 329,
   "metadata": {},
   "outputs": [
    {
     "name": "stdout",
     "output_type": "stream",
     "text": [
      "graph_edges and weight =  [[0, 1, 6], [6, 0, 11], [4, 6, 2], [7, 6, 8], [3, 4, 14], [2, 3, 9], [5, 4, 21]]\n"
     ]
    }
   ],
   "source": [
    "default_minimum = max(max(row) for row in matrix) + 1\n",
    "default_row_min = len(matrix)\n",
    "default_col_min = len(matrix[0])\n",
    "\n",
    "def _visit_(visited, unvisited, row_min, col_min):\n",
    "    \n",
    "    if row_min not in visited:\n",
    "        visited.append(row_min)\n",
    "        unvisited.remove(row_min)\n",
    "        \n",
    "    if col_min not in visited:\n",
    "        visited.append(col_min)\n",
    "        unvisited.remove(col_min)\n",
    "    \n",
    "    return [visited, unvisited]\n",
    "\n",
    "def _searching_with_visited_(visited, unvisited):\n",
    "    \n",
    "    [minimum, row_min, col_min] = [default_minimum, default_row_min, default_col_min]\n",
    "    \n",
    "    for row in unvisited:\n",
    "            for col in visited:\n",
    "            \n",
    "                if matrix[row][col] != 0 and matrix[row][col] < minimum:\n",
    "                    [minimum, row_min, col_min] = [matrix[row][col], row, col]\n",
    "                    \n",
    "    return [minimum, row_min, col_min]\n",
    "\n",
    "def _searching_without_visited_(visited, unvisited):\n",
    "    \n",
    "    [minimum, row_min, col_min] = [default_minimum, default_row_min, default_col_min]\n",
    "    \n",
    "    for row in range(row_min): \n",
    "            for col in range(col_min): \n",
    "        \n",
    "                if matrix[row][col] != 0 and matrix[row][col] < minimum:\n",
    "                    [minimum, row_min, col_min] = [matrix[row][col], row, col]\n",
    "                    \n",
    "    return [minimum, row_min, col_min]\n",
    "\n",
    "def _search_min_(visited, unvisited):\n",
    "    \n",
    "    if len(visited) > 0:        \n",
    "        [minimum, row_min, col_min] = _searching_with_visited_(visited, unvisited)\n",
    "                    \n",
    "    else:        \n",
    "        [minimum, row_min, col_min] = _searching_without_visited_(visited, unvisited)\n",
    "            \n",
    "    return [minimum, row_min, col_min]\n",
    "\n",
    "# graph edges\n",
    "graph_edges = []\n",
    "\n",
    "# the lists of visited and unvisited graph vertices\n",
    "visited = []\n",
    "unvisited = [i for i in range(0, len(matrix))]\n",
    "\n",
    "# until we visited all the graph vertices \n",
    "while len(unvisited) > 0:\n",
    "\n",
    "    [minimum, row_min, col_min] = _search_min_(visited, unvisited)\n",
    "    graph_edges.append([row_min, col_min, minimum])\n",
    "    [visited, unvisited] = _visit_(visited, unvisited, row_min, col_min)\n",
    "\n",
    "vertices_num = len(graph_edges) + 1\n",
    "print(\"graph_edges and weight = \", graph_edges)"
   ]
  },
  {
   "cell_type": "code",
   "execution_count": 330,
   "metadata": {},
   "outputs": [],
   "source": [
    "clusters_num = 4"
   ]
  },
  {
   "cell_type": "code",
   "execution_count": 331,
   "metadata": {},
   "outputs": [
    {
     "name": "stdout",
     "output_type": "stream",
     "text": [
      "graph_edges and weight without extra edges =  [[0, 1, 6], [4, 6, 2], [7, 6, 8], [2, 3, 9]]\n"
     ]
    }
   ],
   "source": [
    "def _find_max_graph_edge_(graph_edges):\n",
    "    max_graph_edge = graph_edges[0]\n",
    "    for graph_edge in graph_edges:\n",
    "        if graph_edge[2] > max_graph_edge[2]:\n",
    "            max_graph_edge = graph_edge\n",
    "    return max_graph_edge\n",
    "\n",
    "for i in range(clusters_num - 1): \n",
    "    graph_edges.remove(_find_max_graph_edge_(graph_edges))\n",
    "print(\"graph_edges and weight without extra edges = \", graph_edges)"
   ]
  },
  {
   "cell_type": "code",
   "execution_count": 332,
   "metadata": {},
   "outputs": [
    {
     "data": {
      "text/plain": [
       "{0: [1], 1: [0], 2: [3], 3: [2], 4: [6], 5: [], 6: [4, 7], 7: [6]}"
      ]
     },
     "execution_count": 332,
     "metadata": {},
     "output_type": "execute_result"
    }
   ],
   "source": [
    "def _marks_(value):\n",
    "    col = []\n",
    "    for i in graph_edges:\n",
    "        if i[0] == value and i[1] not in col:\n",
    "            col.append(i[1])\n",
    "        elif i[1] == value and i[0] not in col:\n",
    "            col.append(i[0])\n",
    "    return col\n",
    "\n",
    "vertices = [i for i in range(vertices_num)]\n",
    "marks = {}\n",
    "for i in vertices:\n",
    "    marks[i] = _marks_(i)\n",
    "marks"
   ]
  },
  {
   "cell_type": "code",
   "execution_count": 333,
   "metadata": {},
   "outputs": [
    {
     "name": "stdout",
     "output_type": "stream",
     "text": [
      "clusters =  [[0, 1], [2, 3], [4, 6, 7], [5]]\n"
     ]
    }
   ],
   "source": [
    "def _cl_(value, clusters, count):\n",
    "    m = marks[value]\n",
    "    for i in m:\n",
    "        if i not in clusters[count]:\n",
    "            clusters[count].append(i)\n",
    "            _cl_(i, clusters, count)\n",
    "    return clusters\n",
    "\n",
    "def _form_(clusters, count):\n",
    "    while vertices != []:\n",
    "        clusters.append([vertices[0]]) \n",
    "        clusters = _cl_(vertices[0], clusters, count)\n",
    "        for i in clusters[count]:\n",
    "            if i in vertices:\n",
    "                vertices.remove(i)\n",
    "        count += 1\n",
    "    return clusters\n",
    "\n",
    "vertices = [i for i in range(vertices_num)]\n",
    "clusters = []\n",
    "count = 0\n",
    "clusters = _form_(clusters, count)\n",
    "print(\"clusters = \", clusters)"
   ]
  },
  {
   "cell_type": "code",
   "execution_count": null,
   "metadata": {},
   "outputs": [],
   "source": []
  }
 ],
 "metadata": {
  "kernelspec": {
   "display_name": "Python 3",
   "language": "python",
   "name": "python3"
  },
  "language_info": {
   "codemirror_mode": {
    "name": "ipython",
    "version": 3
   },
   "file_extension": ".py",
   "mimetype": "text/x-python",
   "name": "python",
   "nbconvert_exporter": "python",
   "pygments_lexer": "ipython3",
   "version": "3.7.0"
  }
 },
 "nbformat": 4,
 "nbformat_minor": 2
}
