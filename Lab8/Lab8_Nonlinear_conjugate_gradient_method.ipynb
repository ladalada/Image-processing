{
 "cells": [
  {
   "cell_type": "code",
   "execution_count": 100,
   "metadata": {},
   "outputs": [],
   "source": [
    "import math"
   ]
  },
  {
   "cell_type": "code",
   "execution_count": 117,
   "metadata": {},
   "outputs": [],
   "source": [
    "def _function_(x):\n",
    "    return x[0] * x[0] + x[1] * x[1] - 4\n",
    "\n",
    "def _derivative_x0_(x):\n",
    "    return 2 * x[0]\n",
    "\n",
    "def _derivative_x1_(x):\n",
    "    return 2 * x[1]\n",
    "\n",
    "def _gradient_(x):\n",
    "    return [_derivative_x0_(x), _derivative_x1_(x)]\n",
    "\n",
    "def _H_(x):\n",
    "    return 4"
   ]
  },
  {
   "cell_type": "code",
   "execution_count": 118,
   "metadata": {},
   "outputs": [],
   "source": [
    "def _mu_(x, p):\n",
    "    H = _H_(x)\n",
    "    gradient = _gradient_(x)\n",
    "    denominator = (p[0] * p[0] + p[1] * p[1]) * H\n",
    "    if denominator != 0:\n",
    "        return (gradient[0] * p[0] + gradient[1] * p[1]) / denominator\n",
    "    else:\n",
    "        return 0"
   ]
  },
  {
   "cell_type": "code",
   "execution_count": 119,
   "metadata": {},
   "outputs": [],
   "source": [
    "def _x_new_(x_prev, mu, p_prev):\n",
    "    return [x_prev[0] - mu * p[0], x_prev[1] - mu * p[1]]"
   ]
  },
  {
   "cell_type": "code",
   "execution_count": 120,
   "metadata": {},
   "outputs": [],
   "source": [
    "def _sum_of_squares_(vector):\n",
    "    summa = 0 \n",
    "    for i in vector:\n",
    "        summa += i * i\n",
    "    return summa"
   ]
  },
  {
   "cell_type": "code",
   "execution_count": 121,
   "metadata": {},
   "outputs": [],
   "source": [
    "def _p_new_(x_prev, x, p_prev):\n",
    "    gradient = _gradient_(x)\n",
    "    gradient_prev = _gradient_(x_prev)\n",
    "    sum1 = _sum_of_squares_(gradient)\n",
    "    sum2 = _sum_of_squares_(gradient_prev)\n",
    "    c = sum1 / sum2\n",
    "    return [gradient[0] + c * p_prev[0], gradient[1] + c * p_prev[1]]"
   ]
  },
  {
   "cell_type": "code",
   "execution_count": 134,
   "metadata": {},
   "outputs": [
    {
     "name": "stdout",
     "output_type": "stream",
     "text": [
      "eps =  0.1\n",
      "i      x          p       mu   f  \n",
      "0 [4.0, 4.0] [8.0, 8.0] 0.25 28.0\n",
      "1 [2.0, 2.0] [6.0, 6.0] 0.16666666666666666 4.0\n",
      "2 [1.0, 1.0] [3.5, 3.5] 0.14285714285714285 -2.0\n",
      "3 [0.5, 0.5] [1.875, 1.875] 0.13333333333333333 -3.5\n",
      "4 [0.25, 0.25] [0.96875, 0.96875] 0.12903225806451613 -3.875\n",
      "5 [0.125, 0.125] [0.4921875, 0.4921875] 0.12698412698412698 -3.96875\n",
      "6 [0.0625, 0.0625] [0.248046875, 0.248046875] 0.12598425196850394 -3.9921875\n",
      "7 [0.03125, 0.03125] [0.12451171875, 0.12451171875] 0.12549019607843137 -3.998046875\n",
      "8 [0.015625, 0.015625] [0.0623779296875, 0.0623779296875] 0.12524461839530332 -3.99951171875\n"
     ]
    }
   ],
   "source": [
    "eps = 0.1\n",
    "iterator = 0\n",
    "x = [4.0, 4.0]\n",
    "gradient = _gradient_(x)\n",
    "p = gradient\n",
    "mu = _mu_(x, p)\n",
    "f = _function_(x)\n",
    "\n",
    "print(\"eps = \", eps)\n",
    "print(\"i\", \"x\".center(11), \"p\".center(10), \"mu\".center(4), \"f\".center(4))\n",
    "print(iterator, x, p, mu, f)\n",
    "\n",
    "while math.sqrt(_sum_of_squares_(p)) > eps:\n",
    "    iterator += 1\n",
    "    x_prev = x\n",
    "    p_prev = p\n",
    "    x = _x_new_(x_prev, mu, p_prev)\n",
    "    p = _p_new_(x_prev, x, p_prev)\n",
    "    mu = _mu_(x, p)\n",
    "    f = _function_(x)\n",
    "    print(iterator, x, p, mu, f)"
   ]
  },
  {
   "cell_type": "code",
   "execution_count": null,
   "metadata": {},
   "outputs": [],
   "source": []
  }
 ],
 "metadata": {
  "kernelspec": {
   "display_name": "Python 3",
   "language": "python",
   "name": "python3"
  },
  "language_info": {
   "codemirror_mode": {
    "name": "ipython",
    "version": 3
   },
   "file_extension": ".py",
   "mimetype": "text/x-python",
   "name": "python",
   "nbconvert_exporter": "python",
   "pygments_lexer": "ipython3",
   "version": "3.7.0"
  }
 },
 "nbformat": 4,
 "nbformat_minor": 2
}
