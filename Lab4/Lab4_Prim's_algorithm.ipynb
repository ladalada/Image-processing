{
 "cells": [
  {
   "cell_type": "markdown",
   "metadata": {},
   "source": [
    "### Алгоритмические основы распознавания изображений\n",
    "#### Лабораторная работа №4.\n",
    "Задание. Реализовать алгоритм Прима (алгоритм поиска минимального покрывающего дерева)."
   ]
  },
  {
   "cell_type": "code",
   "execution_count": 66,
   "metadata": {},
   "outputs": [
    {
     "data": {
      "text/plain": [
       "[[0, 1, 0, 0, 0, 0, 0, 8, 0],\n",
       " [1, 0, 8, 0, 0, 0, 0, 11, 0],\n",
       " [0, 8, 0, 7, 0, 4, 0, 0, 2],\n",
       " [0, 0, 7, 0, 9, 14, 0, 0, 0],\n",
       " [0, 0, 0, 9, 0, 10, 0, 0, 0],\n",
       " [0, 0, 4, 14, 10, 0, 2, 0, 0],\n",
       " [0, 0, 0, 0, 0, 2, 0, 4, 16],\n",
       " [8, 11, 0, 0, 0, 0, 4, 0, 7],\n",
       " [0, 0, 2, 0, 0, 0, 16, 7, 0]]"
      ]
     },
     "execution_count": 66,
     "metadata": {},
     "output_type": "execute_result"
    }
   ],
   "source": [
    "# adjacency matrix\n",
    "\n",
    "matrix = [[0, 1, 0, 0, 0, 0, 0, 8, 0],\n",
    "          [1, 0, 8, 0, 0, 0, 0, 11, 0],\n",
    "          [0, 8, 0, 7, 0, 4, 0, 0, 2],\n",
    "          [0, 0, 7, 0, 9, 14, 0, 0, 0],\n",
    "          [0, 0, 0, 9, 0, 10, 0, 0, 0],\n",
    "          [0, 0, 4, 14, 10, 0, 2, 0, 0],\n",
    "          [0, 0, 0, 0, 0, 2, 0, 4, 16],\n",
    "          [8, 11, 0, 0, 0, 0, 4, 0, 7],\n",
    "          [0, 0, 2, 0, 0, 0, 16, 7, 0]]\n",
    "\n",
    "matrix"
   ]
  },
  {
   "cell_type": "code",
   "execution_count": 56,
   "metadata": {},
   "outputs": [],
   "source": [
    "## input adjacency matrix\n",
    "\n",
    "# lenght = 9\n",
    "# matrix = [0] * lenght\n",
    "\n",
    "# for i in range(lenght):\n",
    "#     matrix[i] = [0] * lenght\n",
    "    \n",
    "# count_j = 1\n",
    "\n",
    "# for i in range(lenght - 1):\n",
    "#     print(\"Matrix row number \", i)\n",
    "#     j = count_j\n",
    "#     while j < lenght:\n",
    "#         matrix[i][j] += int(input())\n",
    "#         matrix[j][i] = matrix[i][j]\n",
    "#         j += 1\n",
    "#     count_j += 1\n",
    "        \n",
    "# matrix"
   ]
  },
  {
   "cell_type": "code",
   "execution_count": 57,
   "metadata": {},
   "outputs": [],
   "source": [
    "# values of minimum, row number, column number before we found the real minimum\n",
    "\n",
    "default_minimum = max(max(row) for row in matrix) + 1\n",
    "default_row_min = len(matrix)\n",
    "default_col_min = len(matrix[0])\n",
    "\n",
    "def _default_min_row_col_():\n",
    "    \n",
    "    return [default_minimum, default_row_min, default_col_min]"
   ]
  },
  {
   "cell_type": "code",
   "execution_count": 58,
   "metadata": {},
   "outputs": [],
   "source": [
    "# values of minimum, row number, column number after we found the real minimum\n",
    "\n",
    "def _new_min_row_col_(row, col):\n",
    "    \n",
    "    new_minimum = matrix[row][col]\n",
    "    new_row_min = row\n",
    "    new_col_min = col\n",
    "                \n",
    "    return [new_minimum, new_row_min, new_col_min] "
   ]
  },
  {
   "cell_type": "code",
   "execution_count": 59,
   "metadata": {},
   "outputs": [],
   "source": [
    "# add the weight of the graph edge to the total weight\n",
    "\n",
    "def _new_weight_(weight, minimum):\n",
    "    \n",
    "    weight += minimum\n",
    "    \n",
    "    return weight"
   ]
  },
  {
   "cell_type": "code",
   "execution_count": 60,
   "metadata": {},
   "outputs": [],
   "source": [
    "# record the found graph edge \n",
    "\n",
    "def _new_graph_edges_(graph_edges, row_min, col_min):\n",
    "    \n",
    "    graph_edges.append([row_min, col_min])\n",
    "    \n",
    "    return graph_edges"
   ]
  },
  {
   "cell_type": "code",
   "execution_count": 61,
   "metadata": {},
   "outputs": [],
   "source": [
    "# change the lists of visited and unvisited graph vertices\n",
    "\n",
    "def _visit_(visited, unvisited, row_min, col_min):\n",
    "    \n",
    "    if row_min not in visited:\n",
    "        visited.append(row_min)\n",
    "        unvisited.remove(row_min)\n",
    "        \n",
    "    if col_min not in visited:\n",
    "        visited.append(col_min)\n",
    "        unvisited.remove(col_min)\n",
    "    \n",
    "    return [visited, unvisited]"
   ]
  },
  {
   "cell_type": "code",
   "execution_count": 62,
   "metadata": {},
   "outputs": [],
   "source": [
    "# search a minimum when the list of visited graph vertices is not empty\n",
    "\n",
    "def _searching_with_visited_(visited, unvisited):\n",
    "    \n",
    "    [minimum, row_min, col_min] = _default_min_row_col_()\n",
    "    \n",
    "    for row in unvisited:\n",
    "            for col in visited:\n",
    "            \n",
    "                if matrix[row][col] != 0 and matrix[row][col] < minimum:\n",
    "                    [minimum, row_min, col_min] = _new_min_row_col_(row, col)\n",
    "                    \n",
    "    return [minimum, row_min, col_min]"
   ]
  },
  {
   "cell_type": "code",
   "execution_count": 63,
   "metadata": {},
   "outputs": [],
   "source": [
    "# search a minimum when the list of visited graph vertices is empty\n",
    "\n",
    "def _searching_without_visited_(visited, unvisited):\n",
    "    \n",
    "    [minimum, row_min, col_min] = _default_min_row_col_()\n",
    "    \n",
    "    for row in range(row_min): \n",
    "            for col in range(col_min): \n",
    "        \n",
    "                if matrix[row][col] != 0 and matrix[row][col] < minimum:\n",
    "                    [minimum, row_min, col_min] = _new_min_row_col_(row, col)\n",
    "                    \n",
    "    return [minimum, row_min, col_min]"
   ]
  },
  {
   "cell_type": "code",
   "execution_count": 64,
   "metadata": {},
   "outputs": [],
   "source": [
    "# search minimum weight\n",
    "\n",
    "def _search_min_(visited, unvisited):\n",
    "    \n",
    "    if len(visited) > 0:        \n",
    "        [minimum, row_min, col_min] = _searching_with_visited_(visited, unvisited)\n",
    "                    \n",
    "    else:        \n",
    "        [minimum, row_min, col_min] = _searching_without_visited_(visited, unvisited)\n",
    "            \n",
    "    return [minimum, row_min, col_min]"
   ]
  },
  {
   "cell_type": "code",
   "execution_count": 65,
   "metadata": {},
   "outputs": [
    {
     "name": "stdout",
     "output_type": "stream",
     "text": [
      "weight =  37\n",
      "graph_edges =  [[0, 1], [2, 1], [8, 2], [5, 2], [6, 5], [7, 6], [3, 2], [4, 3]]\n"
     ]
    }
   ],
   "source": [
    "# graph weight\n",
    "weight = 0\n",
    "\n",
    "# graph edges\n",
    "graph_edges = []\n",
    "\n",
    "# the lists of visited and unvisited graph vertices\n",
    "visited = []\n",
    "unvisited = [i for i in range(0, len(matrix))]\n",
    "\n",
    "# until we visited all the graph vertices \n",
    "while len(unvisited) > 0:\n",
    "\n",
    "    [minimum, row_min, col_min] = _search_min_(visited, unvisited)\n",
    "    weight = _new_weight_(weight, minimum)\n",
    "    graph_edges = _new_graph_edges_(graph_edges, row_min, col_min)\n",
    "    [visited, unvisited] = _visit_(visited, unvisited, row_min, col_min)\n",
    "    \n",
    "print(\"weight = \", weight)\n",
    "print(\"graph_edges = \", graph_edges)"
   ]
  },
  {
   "cell_type": "code",
   "execution_count": null,
   "metadata": {},
   "outputs": [],
   "source": []
  }
 ],
 "metadata": {
  "kernelspec": {
   "display_name": "Python 3",
   "language": "python",
   "name": "python3"
  },
  "language_info": {
   "codemirror_mode": {
    "name": "ipython",
    "version": 3
   },
   "file_extension": ".py",
   "mimetype": "text/x-python",
   "name": "python",
   "nbconvert_exporter": "python",
   "pygments_lexer": "ipython3",
   "version": "3.7.0"
  }
 },
 "nbformat": 4,
 "nbformat_minor": 2
}
