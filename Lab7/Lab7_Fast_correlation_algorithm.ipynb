{
 "cells": [
  {
   "cell_type": "code",
   "execution_count": 26,
   "metadata": {},
   "outputs": [],
   "source": [
    "from PIL import Image, ImageDraw\n",
    "import math"
   ]
  },
  {
   "cell_type": "code",
   "execution_count": 27,
   "metadata": {},
   "outputs": [],
   "source": [
    "pattern_0 = [(0, 1), (0, 2), (0, 3), (0, 4), (0, 5), (1, 0), (1, 6), \n",
    "             (2, 0), (2, 6), (3, 0), (3, 6), (4, 1), (4, 2), (4, 3), \n",
    "             (4, 4), (4, 5)]"
   ]
  },
  {
   "cell_type": "code",
   "execution_count": 28,
   "metadata": {},
   "outputs": [],
   "source": [
    "pattern_1 = [(1, 1), (1, 6), (2, 0), (2, 1), (2, 2), (2, 3), (2, 4), \n",
    "             (2, 5), (2, 6), (3, 6)]"
   ]
  },
  {
   "cell_type": "code",
   "execution_count": 29,
   "metadata": {},
   "outputs": [],
   "source": [
    "pattern_2 = [(0, 1), (0, 6), (1, 0), (1, 5), (1, 6), (2, 0), (2, 4), \n",
    "             (2, 6), (3, 0), (3, 3), (3, 6), (4, 1), (4, 2), (4, 6)]"
   ]
  },
  {
   "cell_type": "code",
   "execution_count": 30,
   "metadata": {},
   "outputs": [],
   "source": [
    "pattern_3 = [(0, 0), (0, 5), (1, 0), (1, 6), (2, 0), (2, 2), (2, 6), \n",
    "             (3, 0), (3, 1), (3, 3), (3, 6), (4, 0), (4, 4), (4, 5)]"
   ]
  },
  {
   "cell_type": "code",
   "execution_count": 31,
   "metadata": {},
   "outputs": [],
   "source": [
    "pattern_4 = [(0, 3), (0, 4), (1, 2), (1, 4), (2, 1), (2, 4), (3, 0), \n",
    "             (3, 1), (3, 2), (3, 3), (3, 4), (3, 5), (3, 6), (4, 4)]"
   ]
  },
  {
   "cell_type": "code",
   "execution_count": 32,
   "metadata": {},
   "outputs": [],
   "source": [
    "pattern_5 = [(0, 0), (0, 1), (0, 2), (0, 5), (1, 0), (1, 2), (1, 6), \n",
    "             (2, 0), (2, 2), (2, 6), (3, 0), (3, 2), (3, 6), (4, 0), \n",
    "            (4, 0), (4, 3), (4, 4), (4, 5)]"
   ]
  },
  {
   "cell_type": "code",
   "execution_count": 33,
   "metadata": {},
   "outputs": [],
   "source": [
    "pattern_6 = [(0, 2), (0, 3), (0, 4), (0, 5), (1, 1), (1, 3), (1, 6), \n",
    "             (2, 0), (2, 3), (2, 6), (3, 0), (3, 3), (3, 6), (4, 4), \n",
    "             (4, 5)]"
   ]
  },
  {
   "cell_type": "code",
   "execution_count": 34,
   "metadata": {},
   "outputs": [],
   "source": [
    "pattern_7 = [(0, 0), (1, 0), (1, 4), (1, 5), (1, 6), (2, 0), (2, 3), \n",
    "             (3, 0), (3, 2), (4, 0), (4, 1)]"
   ]
  },
  {
   "cell_type": "code",
   "execution_count": 35,
   "metadata": {},
   "outputs": [],
   "source": [
    "pattern_8 = [(0, 1), (0, 2), (0, 4), (0, 5), (1, 0), (1, 3), (1, 6), \n",
    "             (2, 0), (2, 3), (2, 6), (3, 0), (3, 3), (3, 6), (4, 1), \n",
    "            (4, 2), (4, 4), (4, 5)]"
   ]
  },
  {
   "cell_type": "code",
   "execution_count": 36,
   "metadata": {},
   "outputs": [],
   "source": [
    "pattern_9 = [(0, 1), (0, 2), (1, 0), (1, 3), (1, 6), (2, 0), (2, 3), \n",
    "             (2, 6), (3, 0), (3, 3), (3, 5), (4, 1), (4, 2), (4, 3),\n",
    "            (4, 4)]"
   ]
  },
  {
   "cell_type": "code",
   "execution_count": 37,
   "metadata": {},
   "outputs": [],
   "source": [
    "def _image_(pattern):\n",
    "    size = (5, 7)\n",
    "    color_white = (255, 255, 255)\n",
    "    color_black = (0, 0, 0)\n",
    "    pattern_image = Image.new(\"RGB\", size, color_white)  \n",
    "    draw = ImageDraw.Draw(pattern_image)\n",
    "    for coord in pattern:\n",
    "        draw.point(coord, color_black)\n",
    "    del draw\n",
    "    return pattern_image"
   ]
  },
  {
   "cell_type": "code",
   "execution_count": 38,
   "metadata": {},
   "outputs": [],
   "source": [
    "def _bigger_(image):\n",
    "    scale = 10\n",
    "    return image.resize((image.size[0] * scale, image.size[0] * scale), resample = 0)"
   ]
  },
  {
   "cell_type": "code",
   "execution_count": 39,
   "metadata": {},
   "outputs": [
    {
     "data": {
      "image/png": "[encoded data removed]",
      "text/plain": [
       "<PIL.Image.Image image mode=RGB size=50x50 at 0x298BE74E198>"
      ]
     },
     "execution_count": 39,
     "metadata": {},
     "output_type": "execute_result"
    }
   ],
   "source": [
    "pattern_image_0 = _image_(pattern_0)\n",
    "_bigger_(pattern_image_0)"
   ]
  },
  {
   "cell_type": "code",
   "execution_count": 40,
   "metadata": {},
   "outputs": [
    {
     "data": {
      "image/png": "[encoded data removed]",
      "text/plain": [
       "<PIL.Image.Image image mode=RGB size=50x50 at 0x298BE74E320>"
      ]
     },
     "execution_count": 40,
     "metadata": {},
     "output_type": "execute_result"
    }
   ],
   "source": [
    "pattern_image_1 = _image_(pattern_1)\n",
    "_bigger_(pattern_image_1)"
   ]
  },
  {
   "cell_type": "code",
   "execution_count": 41,
   "metadata": {},
   "outputs": [
    {
     "data": {
      "image/png": "[encoded data removed]",
      "text/plain": [
       "<PIL.Image.Image image mode=RGB size=50x50 at 0x298BE74E390>"
      ]
     },
     "execution_count": 41,
     "metadata": {},
     "output_type": "execute_result"
    }
   ],
   "source": [
    "pattern_image_2 = _image_(pattern_2)\n",
    "_bigger_(pattern_image_2)"
   ]
  },
  {
   "cell_type": "code",
   "execution_count": 42,
   "metadata": {},
   "outputs": [
    {
     "data": {
      "image/png": "[encoded data removed]",
      "text/plain": [
       "<PIL.Image.Image image mode=RGB size=50x50 at 0x298BE74E5F8>"
      ]
     },
     "execution_count": 42,
     "metadata": {},
     "output_type": "execute_result"
    }
   ],
   "source": [
    "pattern_image_3 = _image_(pattern_3)\n",
    "_bigger_(pattern_image_3)"
   ]
  },
  {
   "cell_type": "code",
   "execution_count": 43,
   "metadata": {},
   "outputs": [
    {
     "data": {
      "image/png": "[encoded data removed]",
      "text/plain": [
       "<PIL.Image.Image image mode=RGB size=50x50 at 0x298BE74E748>"
      ]
     },
     "execution_count": 43,
     "metadata": {},
     "output_type": "execute_result"
    }
   ],
   "source": [
    "pattern_image_4 = _image_(pattern_4)\n",
    "_bigger_(pattern_image_4)"
   ]
  },
  {
   "cell_type": "code",
   "execution_count": 44,
   "metadata": {},
   "outputs": [
    {
     "data": {
      "image/png": "[encoded data removed]",
      "text/plain": [
       "<PIL.Image.Image image mode=RGB size=50x50 at 0x298BE74E6A0>"
      ]
     },
     "execution_count": 44,
     "metadata": {},
     "output_type": "execute_result"
    }
   ],
   "source": [
    "pattern_image_5 = _image_(pattern_5)\n",
    "_bigger_(pattern_image_5)"
   ]
  },
  {
   "cell_type": "code",
   "execution_count": 45,
   "metadata": {},
   "outputs": [
    {
     "data": {
      "image/png": "[encoded data removed]",
      "text/plain": [
       "<PIL.Image.Image image mode=RGB size=50x50 at 0x298BE74E940>"
      ]
     },
     "execution_count": 45,
     "metadata": {},
     "output_type": "execute_result"
    }
   ],
   "source": [
    "pattern_image_6 = _image_(pattern_6)\n",
    "_bigger_(pattern_image_6)"
   ]
  },
  {
   "cell_type": "code",
   "execution_count": 46,
   "metadata": {},
   "outputs": [
    {
     "data": {
      "image/png": "[encoded data removed]",
      "text/plain": [
       "<PIL.Image.Image image mode=RGB size=50x50 at 0x298BE74EB00>"
      ]
     },
     "execution_count": 46,
     "metadata": {},
     "output_type": "execute_result"
    }
   ],
   "source": [
    "pattern_image_7 = _image_(pattern_7)\n",
    "_bigger_(pattern_image_7)"
   ]
  },
  {
   "cell_type": "code",
   "execution_count": 47,
   "metadata": {},
   "outputs": [
    {
     "data": {
      "image/png": "[encoded data removed]",
      "text/plain": [
       "<PIL.Image.Image image mode=RGB size=50x50 at 0x298BE74EC88>"
      ]
     },
     "execution_count": 47,
     "metadata": {},
     "output_type": "execute_result"
    }
   ],
   "source": [
    "pattern_image_8 = _image_(pattern_8)\n",
    "_bigger_(pattern_image_8)"
   ]
  },
  {
   "cell_type": "code",
   "execution_count": 48,
   "metadata": {},
   "outputs": [
    {
     "data": {
      "image/png": "[encoded data removed]",
      "text/plain": [
       "<PIL.Image.Image image mode=RGB size=50x50 at 0x298BE74EDA0>"
      ]
     },
     "execution_count": 48,
     "metadata": {},
     "output_type": "execute_result"
    }
   ],
   "source": [
    "pattern_image_9 = _image_(pattern_9)\n",
    "_bigger_(pattern_image_9)"
   ]
  },
  {
   "cell_type": "code",
   "execution_count": 49,
   "metadata": {},
   "outputs": [],
   "source": [
    "pattern_images = [pattern_image_0, pattern_image_1, pattern_image_2, pattern_image_3, pattern_image_4, \n",
    "                  pattern_image_5, pattern_image_6, pattern_image_7, pattern_image_8, pattern_image_9]"
   ]
  },
  {
   "cell_type": "code",
   "execution_count": 51,
   "metadata": {},
   "outputs": [],
   "source": [
    "test = [(0, 5), (1, 1), (1, 6), (2, 0), (2, 6), (3, 0), (3, 3), (3, 6), (4, 1), (4, 2), (4, 4), (4, 5)]"
   ]
  },
  {
   "cell_type": "code",
   "execution_count": 61,
   "metadata": {},
   "outputs": [
    {
     "data": {
      "image/png": "[encoded data removed]",
      "text/plain": [
       "<PIL.Image.Image image mode=RGB size=50x50 at 0x298BE78EF28>"
      ]
     },
     "execution_count": 61,
     "metadata": {},
     "output_type": "execute_result"
    }
   ],
   "source": [
    "test_image = _image_(test)\n",
    "_bigger_(test_image)"
   ]
  },
  {
   "cell_type": "code",
   "execution_count": 62,
   "metadata": {},
   "outputs": [],
   "source": [
    "test_image_pix = test_image.load() "
   ]
  },
  {
   "cell_type": "code",
   "execution_count": 63,
   "metadata": {},
   "outputs": [],
   "source": [
    "pattern_images_pix = []\n",
    "for pattern in pattern_images:\n",
    "    pattern_images_pix.append(pattern.load())"
   ]
  },
  {
   "cell_type": "code",
   "execution_count": 67,
   "metadata": {},
   "outputs": [
    {
     "data": {
      "text/plain": [
       "[16, 10, 14, 14, 14, 17, 15, 11, 17, 15]"
      ]
     },
     "execution_count": 67,
     "metadata": {},
     "output_type": "execute_result"
    }
   ],
   "source": [
    "counts = []\n",
    "size = test_image.size\n",
    "\n",
    "for pattern_pix in pattern_images_pix:\n",
    "    res = 0\n",
    "    for i in range(size[0]):\n",
    "        for j in range(size[1]):\n",
    "            if pattern_pix[i, j] == (0, 0, 0):\n",
    "                res += 1\n",
    "    counts.append(res)\n",
    "counts"
   ]
  },
  {
   "cell_type": "code",
   "execution_count": 68,
   "metadata": {},
   "outputs": [],
   "source": [
    "correl = []\n",
    "n = -1\n",
    "for pattern_pix in pattern_images_pix:\n",
    "    n += 1\n",
    "    res = 0\n",
    "    for i in range(size[0]):\n",
    "        for j in range(size[1]):\n",
    "            if test_image_pix[i, j] == (0, 0, 0):\n",
    "                if pattern_pix[i, j] == (255, 255, 255):\n",
    "                    res -= 1\n",
    "                elif pattern_pix[i, j] == (0, 0, 0):\n",
    "                    res += 1\n",
    "    correl.append(res / counts[n])"
   ]
  },
  {
   "cell_type": "code",
   "execution_count": 69,
   "metadata": {},
   "outputs": [
    {
     "data": {
      "text/plain": [
       "[0.5,\n",
       " -0.2,\n",
       " 0.2857142857142857,\n",
       " 0.42857142857142855,\n",
       " -0.2857142857142857,\n",
       " 0.23529411764705882,\n",
       " 0.5333333333333333,\n",
       " -0.36363636363636365,\n",
       " 0.5882352941176471,\n",
       " 0.26666666666666666]"
      ]
     },
     "execution_count": 69,
     "metadata": {},
     "output_type": "execute_result"
    }
   ],
   "source": [
    "correl"
   ]
  },
  {
   "cell_type": "code",
   "execution_count": 73,
   "metadata": {},
   "outputs": [
    {
     "data": {
      "text/plain": [
       "(8, 0.5882352941176471)"
      ]
     },
     "execution_count": 73,
     "metadata": {},
     "output_type": "execute_result"
    }
   ],
   "source": [
    "maximum = correl[0]\n",
    "max_num = 0\n",
    "for i in range(len(correl)):\n",
    "    if correl[i] > maximum:\n",
    "        maximum = correl[i]\n",
    "        max_num = i\n",
    "max_num, maximum"
   ]
  },
  {
   "cell_type": "code",
   "execution_count": null,
   "metadata": {},
   "outputs": [],
   "source": []
  }
 ],
 "metadata": {
  "kernelspec": {
   "display_name": "Python 3",
   "language": "python",
   "name": "python3"
  },
  "language_info": {
   "codemirror_mode": {
    "name": "ipython",
    "version": 3
   },
   "file_extension": ".py",
   "mimetype": "text/x-python",
   "name": "python",
   "nbconvert_exporter": "python",
   "pygments_lexer": "ipython3",
   "version": "3.7.0"
  }
 },
 "nbformat": 4,
 "nbformat_minor": 2
}
